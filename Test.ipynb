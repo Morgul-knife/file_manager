{
 "cells": [
  {
   "cell_type": "code",
   "execution_count": 1,
   "metadata": {},
   "outputs": [],
   "source": [
    "import os\n",
    "import shutil\n",
    "\n",
    "from PIL import Image"
   ]
  },
  {
   "cell_type": "code",
   "execution_count": 21,
   "metadata": {},
   "outputs": [
    {
     "data": {
      "text/plain": [
       "'D:\\\\MY PROJECTS\\\\File manager\\\\pics'"
      ]
     },
     "execution_count": 21,
     "metadata": {},
     "output_type": "execute_result"
    }
   ],
   "source": [
    "os.getcwd()"
   ]
  },
  {
   "cell_type": "code",
   "execution_count": 20,
   "metadata": {},
   "outputs": [],
   "source": [
    "os.chdir('D:/MY PROJECTS/File manager/pics')"
   ]
  },
  {
   "cell_type": "code",
   "execution_count": 22,
   "metadata": {},
   "outputs": [],
   "source": [
    "dicpic = {}\n",
    "\n",
    "for image in os.listdir():\n",
    "\n",
    "    with Image.open(image) as f: \n",
    "        dicpic[image] = {'size': f.size}"
   ]
  },
  {
   "cell_type": "code",
   "execution_count": 25,
   "metadata": {},
   "outputs": [],
   "source": [
    "structure = {}\n",
    "\n",
    "structure['low resolution'] = [0, 0, 1920, 1080]\n",
    "\n",
    "structure['FHD'] = [1920, 1080, 2560, 1440]\n",
    "\n",
    "structure['WQHD'] = [2560, 1440, 2560, 1600]\n",
    "\n",
    "structure['WQXGA'] = [2560, 1600, 3440, 1440]\n",
    "\n",
    "structure['Ultra WQHD'] = [3440, 1440, 3840, 2160]\n",
    "\n",
    "structure['4K UHD'] = [3840, 2160, 10000, 10000]"
   ]
  },
  {
   "cell_type": "code",
   "execution_count": 26,
   "metadata": {},
   "outputs": [
    {
     "data": {
      "text/plain": [
       "{'low resolution': [0, 0, 1920, 1080],\n",
       " 'FHD': [1920, 1080, 2560, 1440],\n",
       " 'WQHD': [2560, 1440, 2560, 1600],\n",
       " 'WQXGA': [2560, 1600, 3440, 1440],\n",
       " 'Ultra WQHD': [3440, 1440, 3840, 2160],\n",
       " '4K UHD': [3840, 2160, 10000, 10000]}"
      ]
     },
     "execution_count": 26,
     "metadata": {},
     "output_type": "execute_result"
    }
   ],
   "source": [
    "structure"
   ]
  },
  {
   "cell_type": "code",
   "execution_count": 27,
   "metadata": {},
   "outputs": [],
   "source": [
    "folders = list(structure.keys())"
   ]
  },
  {
   "cell_type": "code",
   "execution_count": 28,
   "metadata": {},
   "outputs": [],
   "source": [
    "for folder in folders:\n",
    "\n",
    "    if not os.path.isdir(folder):\n",
    "        os.mkdir(folder)"
   ]
  },
  {
   "cell_type": "code",
   "execution_count": 29,
   "metadata": {},
   "outputs": [],
   "source": [
    "for image in dicpic:\n",
    "\n",
    "    width, height = dicpic[image]['size']\n",
    "\n",
    "    for resolution in structure:\n",
    "\n",
    "        min_width, min_height, max_width, max_height = structure[resolution]  \n",
    "\n",
    "        if all([width >= min_width, height >= min_height, width < max_width, height < max_height]):\n",
    "            shutil.move(image, os.path.join(os.getcwd(), resolution))\n",
    "\n",
    "    # if all([width >= 1920, height >= 1080, width < 2560, height < 1600]):\n",
    "    #     shutil.move(image, os.path.join(os.getcwd(), '1920x1080'))\n",
    "\n",
    "    # if all([width >= 2560, height >= 1600, width < 3440, height < 1440]):\n",
    "    #     shutil.move(image, os.path.join(os.getcwd(), '2560x1600'))"
   ]
  }
 ],
 "metadata": {
  "kernelspec": {
   "display_name": "learncv",
   "language": "python",
   "name": "python3"
  },
  "language_info": {
   "codemirror_mode": {
    "name": "ipython",
    "version": 3
   },
   "file_extension": ".py",
   "mimetype": "text/x-python",
   "name": "python",
   "nbconvert_exporter": "python",
   "pygments_lexer": "ipython3",
   "version": "3.10.5"
  }
 },
 "nbformat": 4,
 "nbformat_minor": 2
}
